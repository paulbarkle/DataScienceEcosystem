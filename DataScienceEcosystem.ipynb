{
 "cells": [
  {
   "cell_type": "markdown",
   "id": "99d30886-ea29-4751-93c4-822015024239",
   "metadata": {
    "tags": []
   },
   "source": [
    "# Data Science Ecosystem"
   ]
  },
  {
   "cell_type": "markdown",
   "id": "e3412eb8-8448-427b-a963-e970e351988f",
   "metadata": {},
   "source": [
    "In this notebook, Data Science Tools and Ecosystem are summarized."
   ]
  },
  {
   "cell_type": "markdown",
   "id": "0a6f0f1b-1ef9-4d35-b9b6-3bfd932bab44",
   "metadata": {},
   "source": [
    "**Objectives**\n",
    "* List popular data science languages\n",
    "* List popular data science libraries\n",
    "* Create tables\n",
    "* Perform arithmetic"
   ]
  },
  {
   "cell_type": "markdown",
   "id": "e1ccbebe-69bb-43f0-92b1-88a68709ac3a",
   "metadata": {},
   "source": [
    "Some of the popular languages that Data Scientists use are:\n",
    "1. Python\n",
    "2. R\n",
    "3. SQL"
   ]
  },
  {
   "cell_type": "markdown",
   "id": "7830b02e-0f05-48da-82f6-ea247e0c01f6",
   "metadata": {
    "tags": []
   },
   "source": [
    "Some of the commonly used libraries used by Data Scientists include:\n",
    "1. Pandas\n",
    "2. Scikit-learn\n",
    "3. NumPy"
   ]
  },
  {
   "cell_type": "markdown",
   "id": "309e876a-fdcd-4db4-b3a3-3f9b694c9900",
   "metadata": {
    "tags": []
   },
   "source": [
    "| Data Science Tools |\n",
    "|-------| \n",
    "| Juptyr Lab |\n",
    "|Juptyr Notebook |\n",
    "| R Studio |"
   ]
  },
  {
   "cell_type": "markdown",
   "id": "856974d0-7763-4011-b654-1c4166428a6a",
   "metadata": {
    "tags": []
   },
   "source": [
    "### Below are a few examples of evaluating arithmetic expressions in Python"
   ]
  },
  {
   "cell_type": "code",
   "execution_count": 6,
   "id": "5eb0f8b1-3e6e-4316-9ed9-63dd042a11ed",
   "metadata": {
    "tags": []
   },
   "outputs": [
    {
     "data": {
      "text/plain": [
       "17"
      ]
     },
     "execution_count": 6,
     "metadata": {},
     "output_type": "execute_result"
    }
   ],
   "source": [
    "# This a simple arithmetic expression to mutiply then add integers\n",
    "(3*4)+5"
   ]
  },
  {
   "cell_type": "code",
   "execution_count": 7,
   "id": "03f722ab-92f4-45cd-b0d3-77e96e737028",
   "metadata": {
    "tags": []
   },
   "outputs": [
    {
     "data": {
      "text/plain": [
       "3.3333333333333335"
      ]
     },
     "execution_count": 7,
     "metadata": {},
     "output_type": "execute_result"
    }
   ],
   "source": [
    "# This will convert 200 minutes to hours by dividing by 60\n",
    "200/60"
   ]
  },
  {
   "cell_type": "markdown",
   "id": "f9936eec-ac50-4b74-84f1-548de5970cfc",
   "metadata": {},
   "source": [
    "## Author\n",
    "Paul Barkle"
   ]
  },
  {
   "cell_type": "code",
   "execution_count": null,
   "id": "e01a032b-a004-459b-8230-ffe36c50196b",
   "metadata": {},
   "outputs": [],
   "source": []
  },
  {
   "cell_type": "code",
   "execution_count": null,
   "id": "950808c2-e5ec-4971-96bc-cd0a0548c25d",
   "metadata": {},
   "outputs": [],
   "source": []
  }
 ],
 "metadata": {
  "kernelspec": {
   "display_name": "Python",
   "language": "python",
   "name": "conda-env-python-py"
  },
  "language_info": {
   "codemirror_mode": {
    "name": "ipython",
    "version": 3
   },
   "file_extension": ".py",
   "mimetype": "text/x-python",
   "name": "python",
   "nbconvert_exporter": "python",
   "pygments_lexer": "ipython3",
   "version": "3.7.12"
  }
 },
 "nbformat": 4,
 "nbformat_minor": 5
}
